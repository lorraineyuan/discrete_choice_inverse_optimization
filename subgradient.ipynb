{
 "cells": [
  {
   "cell_type": "code",
   "execution_count": 1,
   "metadata": {},
   "outputs": [],
   "source": [
    "import pandas as pd\n",
    "import numpy as np\n",
    "from gurobipy import *"
   ]
  },
  {
   "cell_type": "code",
   "execution_count": 2,
   "metadata": {},
   "outputs": [],
   "source": [
    "p = [2.5,3.5]"
   ]
  },
  {
   "cell_type": "code",
   "execution_count": 3,
   "metadata": {},
   "outputs": [],
   "source": [
    "df=pd.read_csv('data/sample_disc_0.2_0.8.csv')"
   ]
  },
  {
   "cell_type": "code",
   "execution_count": 4,
   "metadata": {},
   "outputs": [],
   "source": [
    "K_list = np.array(df['K']).astype(float)\n",
    "L_list = np.array(df['L']).astype(float)\n",
    "w_list = np.array(df['w'])"
   ]
  },
  {
   "cell_type": "code",
   "execution_count": 5,
   "metadata": {},
   "outputs": [],
   "source": [
    "K_list[K_list==0]=0.001\n",
    "L_list[L_list==0]=0.001"
   ]
  },
  {
   "cell_type": "code",
   "execution_count": 6,
   "metadata": {},
   "outputs": [
    {
     "name": "stdout",
     "output_type": "stream",
     "text": [
      "Using license file /Users/lorraine/gurobi.lic\n",
      "Academic license - for non-commercial use only\n"
     ]
    }
   ],
   "source": [
    "q1=Model('question1')\n",
    "x1 = [0 for i in range(len(K_list))]\n",
    "x2 = [0 for i in range(len(K_list))]\n",
    "ep = [0 for i in range(len(K_list))]\n",
    "y = [0 for i in range(len(K_list))]\n",
    "a = 0\n",
    "b = 0\n",
    "\n",
    "for i in range(len(K_list)):\n",
    "    x1[i] = q1.addVar(vtype=GRB.CONTINUOUS, name='x1'+str(i+1),lb=-np.inf)\n",
    "    x2[i] = q1.addVar(vtype=GRB.CONTINUOUS, name='x2'+str(i+1),lb=-np.inf)\n",
    "    y[i] = q1.addVar(vtype=GRB.CONTINUOUS, name='y'+str(i+1))\n",
    "    ep[i] = q1.addVar(vtype=GRB.CONTINUOUS, name='ep'+str(i+1))\n",
    "q1.update()\n",
    "a = q1.addVar(vtype=GRB.CONTINUOUS, name='a')\n",
    "b = q1.addVar(vtype=GRB.CONTINUOUS, name='b')\n",
    "q1.update()\n",
    "\n",
    "objective = 0\n",
    "for i in range(len(K_list)):\n",
    "    objective += ep[i]*ep[i]\n",
    "      \n",
    "q1.setObjective(objective, GRB.MINIMIZE)"
   ]
  },
  {
   "cell_type": "code",
   "execution_count": 7,
   "metadata": {},
   "outputs": [],
   "source": [
    "for i in range(len(K_list)):\n",
    "    const = LinExpr()\n",
    "    const += - p[0]*y[i] -x1[i]\n",
    "    q1.addConstr(lhs=const,sense=GRB.LESS_EQUAL,rhs=0,name='py<=x1_'+str(i))\n",
    "    const = LinExpr()\n",
    "    const += - p[1]*y[i] -x2[i]\n",
    "    q1.addConstr(lhs=const,sense=GRB.LESS_EQUAL,rhs=0,name='py<=x2_'+str(i))\n",
    "    \n",
    "    const = LinExpr()\n",
    "    const += x1[i]*K_list[i] + x2[i]*L_list[i] + w_list[i] * y[i] -ep[i]\n",
    "    q1.addConstr(lhs=const,sense=GRB.LESS_EQUAL,rhs=0,name='x1*K+x2*L+w*y_'+str(i))\n",
    "    \n",
    "    const = LinExpr()\n",
    "    const += a+b\n",
    "    q1.addConstr(lhs=const,sense=GRB.EQUAL,rhs=1,name='a+b=1')\n",
    "    \n",
    "    for k in range(0,int(w_list[i]/2.5)+1):\n",
    "        if k==0:\n",
    "            k=0.001\n",
    "        for l in range(0,int(w_list[i]/3.5)+1):\n",
    "            if l==0:\n",
    "                l=0.001\n",
    "            cost = 2.5*k +3.5*l\n",
    "            if (cost <= w_list[i]): \n",
    "                _k = k\n",
    "                _l =l\n",
    "                const = LinExpr()\n",
    "                const += a*np.log(k) - a*np.log(K_list[i]) + b*np.log(l) - b*np.log(L_list[i]) - x1[i] * (k-K_list[i]) - x2[i] * (l-L_list[i])\n",
    "                q1.addConstr(lhs=const,sense=GRB.LESS_EQUAL,rhs=0,name='subgrad'+str(l)+'_'+str(k))\n",
    "q1.update()"
   ]
  },
  {
   "cell_type": "code",
   "execution_count": 8,
   "metadata": {
    "scrolled": true
   },
   "outputs": [
    {
     "name": "stdout",
     "output_type": "stream",
     "text": [
      "Gurobi Optimizer version 9.0.1 build v9.0.1rc0 (mac64)\n",
      "Optimize a model with 24201 rows, 3990 columns and 77872 nonzeros\n",
      "Model fingerprint: 0xd3935089\n",
      "Model has 997 quadratic objective terms\n",
      "Coefficient statistics:\n",
      "  Matrix range     [1e-03, 3e+01]\n",
      "  Objective range  [0e+00, 0e+00]\n",
      "  QObjective range [2e+00, 2e+00]\n",
      "  Bounds range     [0e+00, 0e+00]\n",
      "  RHS range        [1e+00, 1e+00]\n",
      "Presolve removed 4064 rows and 361 columns\n",
      "Presolve time: 0.04s\n",
      "Presolved: 20137 rows, 3629 columns, 56321 nonzeros\n",
      "Presolved model has 992 quadratic objective terms\n",
      "Ordering time: 0.01s\n",
      "\n",
      "Barrier statistics:\n",
      " Dense cols : 1\n",
      " Free vars  : 3\n",
      " AA' NZ     : 2.565e+05\n",
      " Factor NZ  : 2.858e+05 (roughly 12 MBytes of memory)\n",
      " Factor Ops : 5.951e+06 (less than 1 second per iteration)\n",
      " Threads    : 1\n",
      "\n",
      "                  Objective                Residual\n",
      "Iter       Primal          Dual         Primal    Dual     Compl     Time\n",
      "   0   2.48230649e+08 -2.52381543e+08  2.50e+03 1.00e+03  1.00e+06     0s\n",
      "   1   2.31091513e+08 -2.37447540e+08  1.40e+03 5.79e+02  5.90e+05     0s\n",
      "   2   2.04111865e+08 -2.12017955e+08  1.06e+03 4.38e+02  4.48e+05     0s\n",
      "   3   1.83624834e+08 -1.97496357e+08  4.93e+02 2.09e+02  2.52e+05     0s\n",
      "   4   1.64499015e+08 -1.88449383e+08  1.23e+02 6.04e+01  9.54e+04     0s\n",
      "   5   9.45103794e+07 -1.23293109e+08  1.75e+01 1.23e+01  2.68e+04     0s\n",
      "   6   2.61976847e+07 -4.82668283e+07  7.17e-01 5.38e-01  3.85e+03     0s\n",
      "   7   7.36096377e+06 -1.26387302e+07  8.48e-02 6.36e-02  9.12e+02     0s\n",
      "   8   1.65816435e+06 -2.37228498e+06  8.06e-03 6.05e-03  1.78e+02     0s\n",
      "   9   3.03821931e+05 -3.59467213e+05  4.03e-04 4.48e-04  2.91e+01     0s\n",
      "  10   1.01138450e+05 -1.38140452e+05  2.24e-05 1.36e-04  1.05e+01     0s\n",
      "  11   3.34846550e+04 -5.94539707e+04  4.48e-08 9.21e-05  4.06e+00     0s\n",
      "  12   1.48520494e+04 -2.45519680e+04  1.02e-08 2.73e-05  1.72e+00     0s\n",
      "  13   4.36662911e+03 -6.79818899e+03  2.75e-09 3.12e-07  4.88e-01     0s\n",
      "  14   8.39554910e+02 -1.53371895e+03  2.34e-11 1.08e-08  1.04e-01     0s\n",
      "  15   2.77921036e+02 -5.81456126e+02  4.83e-12 2.34e-09  3.76e-02     0s\n",
      "  16   1.14194446e+02 -2.83601701e+02  1.23e-12 3.02e-09  1.74e-02     0s\n",
      "  17   4.51272422e+01 -1.25990718e+02  3.34e-13 2.55e-09  7.48e-03     0s\n",
      "  18   2.01765296e+01 -6.67257163e+01  1.27e-13 1.24e-09  3.80e-03     0s\n",
      "  19   1.05732515e+01 -4.01023310e+01  5.50e-14 1.26e-09  2.22e-03     0s\n",
      "  20   1.78156948e+00 -7.70603749e+00  5.36e-15 8.12e-10  4.15e-04     0s\n",
      "  21   1.72849793e-01 -4.81435513e-01  2.68e-15 1.52e-09  2.86e-05     0s\n",
      "  22   1.82818384e-02 -3.30664904e-02  2.21e-15 1.46e-09  2.25e-06     0s\n",
      "  23   4.69573382e-03 -7.30452068e-03  2.38e-11 2.80e-09  5.25e-07     0s\n",
      "  24   1.69835617e-03 -3.65261032e-04  2.70e-11 1.57e-09  9.02e-08     0s\n",
      "  25   1.26774904e-03  1.12215173e-03  2.84e-11 4.38e-11  6.37e-09     0s\n",
      "  26   1.20822048e-03  1.18954435e-03  4.24e-10 1.88e-13  8.17e-10     0s\n",
      "  27   1.20127065e-03  1.19735595e-03  1.42e-12 2.78e-17  1.71e-10     0s\n",
      "  28   1.20022997e-03  1.19987268e-03  1.10e-10 1.39e-17  1.56e-11     0s\n",
      "  29   1.20008800e-03  1.20002777e-03  3.56e-12 4.16e-17  2.63e-12     0s\n",
      "  30   1.20006755e-03  1.20006039e-03  6.92e-12 2.78e-17  3.13e-13     0s\n",
      "\n",
      "Barrier solved model in 30 iterations and 0.48 seconds\n",
      "Optimal objective 1.20006755e-03\n",
      "\n"
     ]
    }
   ],
   "source": [
    "q1.optimize()"
   ]
  },
  {
   "cell_type": "code",
   "execution_count": 9,
   "metadata": {
    "scrolled": true
   },
   "outputs": [
    {
     "data": {
      "text/plain": [
       "<gurobi.Var b (value 0.8180681711182086)>"
      ]
     },
     "execution_count": 9,
     "metadata": {},
     "output_type": "execute_result"
    }
   ],
   "source": [
    "b"
   ]
  },
  {
   "cell_type": "code",
   "execution_count": 10,
   "metadata": {
    "scrolled": true
   },
   "outputs": [
    {
     "data": {
      "text/plain": [
       "<gurobi.Var a (value 0.18193182888179138)>"
      ]
     },
     "execution_count": 10,
     "metadata": {},
     "output_type": "execute_result"
    }
   ],
   "source": [
    "a"
   ]
  },
  {
   "cell_type": "code",
   "execution_count": null,
   "metadata": {},
   "outputs": [],
   "source": []
  },
  {
   "cell_type": "code",
   "execution_count": null,
   "metadata": {},
   "outputs": [],
   "source": []
  }
 ],
 "metadata": {
  "kernelspec": {
   "display_name": "Python 3",
   "language": "python",
   "name": "python3"
  },
  "language_info": {
   "codemirror_mode": {
    "name": "ipython",
    "version": 3
   },
   "file_extension": ".py",
   "mimetype": "text/x-python",
   "name": "python",
   "nbconvert_exporter": "python",
   "pygments_lexer": "ipython3",
   "version": "3.7.6"
  }
 },
 "nbformat": 4,
 "nbformat_minor": 4
}
