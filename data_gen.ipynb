{
 "cells": [
  {
   "cell_type": "code",
   "execution_count": 1,
   "metadata": {},
   "outputs": [],
   "source": [
    "import numpy as np\n",
    "import pandas as pd\n",
    "import matplotlib.pyplot as plt\n",
    "import math"
   ]
  },
  {
   "cell_type": "code",
   "execution_count": 2,
   "metadata": {},
   "outputs": [],
   "source": [
    "c=2\n",
    "a = 0.35\n",
    "b=0.65\n",
    "K = 3\n",
    "L = 2\n",
    "\n",
    "w = np.random.normal(15,5,1000)\n",
    "w = w[w>0]\n",
    "p1 = 2.5\n",
    "p2 = 3.5"
   ]
  },
  {
   "cell_type": "code",
   "execution_count": 3,
   "metadata": {},
   "outputs": [],
   "source": [
    "def utility( _K , _L, _a = a , _b = b , _c = c):\n",
    "    u = _c * (_K**_a) * (_L **_b)\n",
    "    return u"
   ]
  },
  {
   "cell_type": "code",
   "execution_count": 4,
   "metadata": {},
   "outputs": [],
   "source": [
    "def optimal(w,a,b,p1,p2):\n",
    "    res1 = w*a/p1/(a+b)\n",
    "    res2 = w*b/p2/(a+b)\n",
    "    val = utility(res1,res2)\n",
    "    return res1, res2, val"
   ]
  },
  {
   "cell_type": "code",
   "execution_count": 5,
   "metadata": {},
   "outputs": [],
   "source": [
    "def discrete(res1,res2,_w):\n",
    "    round_res1 = math.floor(res1)\n",
    "    round_res2 = math.floor(res2)\n",
    "    temp_value = 0\n",
    "    choice1 = 0\n",
    "    choice2 = 0\n",
    "    for i in range(-2,3):\n",
    "        temp1 = round_res1 + i\n",
    "        if temp1<0:\n",
    "            pass\n",
    "        else:          \n",
    "            for j in range(-2,3):\n",
    "                temp2 = round_res2 + j\n",
    "                if temp2<0:\n",
    "                    pass\n",
    "                else:\n",
    "                    cost = p1*temp1 + p2*temp2\n",
    "                    if cost <= _w:\n",
    "                        val = c* (temp1**a) * (temp2 **b)\n",
    "                        if val > temp_value:\n",
    "                            temp_value = val\n",
    "                            choice1 = temp1\n",
    "                            choice2 = temp2\n",
    "    return choice1, choice2, temp_value"
   ]
  },
  {
   "cell_type": "code",
   "execution_count": 6,
   "metadata": {},
   "outputs": [],
   "source": [
    "decimal_res = [optimal(i,a,b,p1,p2) for i in w]\n",
    "integer_res = [discrete(decimal_res[i][0],decimal_res[i][1],w[i]) for i in range(len(w))]"
   ]
  },
  {
   "cell_type": "code",
   "execution_count": 7,
   "metadata": {},
   "outputs": [],
   "source": [
    "x1 = [decimal_res[i][0] for i in range(len(decimal_res))]\n",
    "y1= [decimal_res[i][1] for i in range(len(decimal_res))]\n",
    "x2 = [integer_res[i][0] for i in range(len(integer_res))]\n",
    "y2= [integer_res[i][1] for i in range(len(integer_res))]\n",
    "\n",
    "dict1 = {'K':x2,'L':y2,'w':w}\n",
    "dict2 = {'K':x1,'L':y1,'w':w}\n",
    "sample_disc = pd.DataFrame(dict1)\n",
    "sample_cont = pd.DataFrame(dict2)"
   ]
  },
  {
   "cell_type": "code",
   "execution_count": 8,
   "metadata": {},
   "outputs": [],
   "source": [
    "sample_disc.to_csv('sample_disc.csv')\n",
    "sample_cont.to_csv('sample_cont.csv')"
   ]
  },
  {
   "cell_type": "code",
   "execution_count": null,
   "metadata": {},
   "outputs": [],
   "source": []
  }
 ],
 "metadata": {
  "kernelspec": {
   "display_name": "Python 3",
   "language": "python",
   "name": "python3"
  },
  "language_info": {
   "codemirror_mode": {
    "name": "ipython",
    "version": 3
   },
   "file_extension": ".py",
   "mimetype": "text/x-python",
   "name": "python",
   "nbconvert_exporter": "python",
   "pygments_lexer": "ipython3",
   "version": "3.7.6"
  }
 },
 "nbformat": 4,
 "nbformat_minor": 4
}
